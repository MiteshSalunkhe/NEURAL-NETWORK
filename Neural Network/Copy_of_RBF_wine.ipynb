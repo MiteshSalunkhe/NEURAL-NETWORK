{
  "nbformat": 4,
  "nbformat_minor": 0,
  "metadata": {
    "colab": {
      "provenance": []
    },
    "kernelspec": {
      "name": "python3",
      "display_name": "Python 3"
    },
    "language_info": {
      "name": "python"
    }
  },
  "cells": [
    {
      "cell_type": "code",
      "source": [
        "import pandas as pd\n",
        "import numpy as np\n",
        "from sklearn.model_selection import train_test_split\n",
        "from sklearn.preprocessing import StandardScaler\n",
        "from sklearn.metrics import accuracy_score\n",
        "\n",
        "data = pd.read_csv('wine_data.csv')\n",
        "\n",
        "print(data.head())\n",
        "X = data.iloc[:, :-1].values\n",
        "y = data.iloc[:, -1].values\n",
        "\n",
        "scaler = StandardScaler()\n",
        "X_scaled = scaler.fit_transform(X)\n",
        "\n",
        "X_train, X_test, y_train, y_test = train_test_split(X_scaled, y, test_size=0.2, random_state=42)\n",
        "\n",
        "\n",
        "def rbf_kernel(x1, x2, gamma=1.0):\n",
        "    diff = x1 - x2\n",
        "    return np.exp(-gamma * np.dot(diff, diff.T))\n",
        "\n",
        "def rbf_classifier(X_train, y_train, X_test, gamma):\n",
        "    predictions = []\n",
        "\n",
        "    for test_sample in X_test:\n",
        "        distances = []\n",
        "\n",
        "        for train_sample in X_train:\n",
        "            distance = rbf_kernel(test_sample, train_sample, gamma)\n",
        "            distances.append(distance)\n",
        "\n",
        "        closest_index = np.argmax(distances)\n",
        "        predictions.append(y_train[closest_index])\n",
        "\n",
        "    return np.array(predictions)\n",
        "\n",
        "predictions = rbf_classifier(X_train, y_train, X_test, gamma=0.5)\n",
        "\n",
        "accuracy = accuracy_score(y_test, predictions)\n",
        "print(f'Accuracy: {accuracy * 100:.2f}%')\n"
      ],
      "metadata": {
        "id": "orWYP-48mQP7"
      },
      "execution_count": null,
      "outputs": []
    },
    {
      "cell_type": "code",
      "execution_count": null,
      "metadata": {
        "id": "X-DgESUyQdKv"
      },
      "outputs": [],
      "source": [
        "import pandas as pd\n",
        "import numpy as np\n",
        "from sklearn.model_selection import train_test_split\n",
        "from sklearn.preprocessing import StandardScaler\n",
        "from sklearn.metrics import accuracy_score"
      ]
    },
    {
      "cell_type": "code",
      "source": [
        "data = pd.read_csv('wine_data.csv')\n",
        "\n",
        "print(data.head())\n",
        "X = data.iloc[:, :-1].values\n",
        "y = data.iloc[:, -1].values\n",
        "\n",
        "scaler = StandardScaler()\n",
        "X_scaled = scaler.fit_transform(X)\n",
        "\n",
        "X_train, X_test, y_train, y_test = train_test_split(X_scaled, y, test_size=0.2, random_state=42)"
      ],
      "metadata": {
        "colab": {
          "base_uri": "https://localhost:8080/"
        },
        "id": "BvrK1pKkQmC1",
        "outputId": "4542fdc9-3e6e-488f-ae22-3202641ffb2c"
      },
      "execution_count": null,
      "outputs": [
        {
          "output_type": "stream",
          "name": "stdout",
          "text": [
            "   fixed_acidity  volatile_acidity  citric_acid  residual_sugar  chlorides  \\\n",
            "0           11.6             0.580         0.66            2.20      0.074   \n",
            "1           10.4             0.610         0.49            2.10      0.200   \n",
            "2            7.4             1.185         0.00            4.25      0.097   \n",
            "3           10.4             0.440         0.42            1.50      0.145   \n",
            "4            8.3             1.020         0.02            3.40      0.084   \n",
            "\n",
            "   free_sulfur_dioxide  total_sulfur_dioxide  density    pH  sulphates  \\\n",
            "0                 10.0                  47.0  1.00080  3.25       0.57   \n",
            "1                  5.0                  16.0  0.99940  3.16       0.63   \n",
            "2                  5.0                  14.0  0.99660  3.63       0.54   \n",
            "3                 34.0                  48.0  0.99832  3.38       0.86   \n",
            "4                  6.0                  11.0  0.99892  3.48       0.49   \n",
            "\n",
            "   alcohol  quality  \n",
            "0      9.0        3  \n",
            "1      8.4        3  \n",
            "2     10.7        3  \n",
            "3      9.9        3  \n",
            "4     11.0        3  \n"
          ]
        }
      ]
    },
    {
      "cell_type": "code",
      "source": [
        "def rbf_kernel(x1, x2, gamma=1.0):\n",
        "    diff = x1 - x2\n",
        "    return np.exp(-gamma * np.dot(diff, diff.T))"
      ],
      "metadata": {
        "id": "IBkL5-3MRBgs"
      },
      "execution_count": null,
      "outputs": []
    },
    {
      "cell_type": "code",
      "source": [
        "def rbf_classifier(X_train, y_train, X_test, gamma):\n",
        "    predictions = []\n",
        "\n",
        "    for test_sample in X_test:\n",
        "        distances = []\n",
        "\n",
        "        for train_sample in X_train:\n",
        "            distance = rbf_kernel(test_sample, train_sample, gamma)\n",
        "            distances.append(distance)\n",
        "\n",
        "        closest_index = np.argmax(distances)\n",
        "        predictions.append(y_train[closest_index])\n",
        "\n",
        "    return np.array(predictions)\n",
        "\n",
        "predictions = rbf_classifier(X_train, y_train, X_test, gamma=0.5)\n",
        "\n",
        "accuracy = accuracy_score(y_test, predictions)\n",
        "print(f'Accuracy: {accuracy * 100:.2f}%')\n"
      ],
      "metadata": {
        "colab": {
          "base_uri": "https://localhost:8080/"
        },
        "id": "E_qq1FSAREVg",
        "outputId": "5a9e7afa-ddb9-4c24-860f-d5cd4d30b447"
      },
      "execution_count": null,
      "outputs": [
        {
          "output_type": "stream",
          "name": "stdout",
          "text": [
            "Accuracy: 59.67%\n"
          ]
        }
      ]
    }
  ]
}