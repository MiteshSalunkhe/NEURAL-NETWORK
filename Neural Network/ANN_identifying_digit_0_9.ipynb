{
  "nbformat": 4,
  "nbformat_minor": 0,
  "metadata": {
    "colab": {
      "provenance": []
    },
    "kernelspec": {
      "name": "python3",
      "display_name": "Python 3"
    },
    "language_info": {
      "name": "python"
    }
  },
  "cells": [
    {
      "cell_type": "code",
      "execution_count": null,
      "metadata": {
        "id": "IIF_H6UHy9CJ"
      },
      "outputs": [],
      "source": [
        "# from keras.datasets import mnist\n",
        "# (train_X, train_y), (test_X, test_y) = mnist.load_data()\n",
        "# print('X_train: ' + str(train_X.shape))\n",
        "# print('Y_train: ' + str(train_y.shape))\n",
        "# print('X_test:  '  + str(test_X.shape))\n",
        "# print('Y_test:  '  + str(test_y.shape))"
      ]
    },
    {
      "cell_type": "code",
      "source": [
        "# from matplotlib import pyplot\n",
        "# for i in range(9):\n",
        "#   pyplot.subplot(330 + 1 + i)\n",
        "#   pyplot.imshow(train_X[i], cmap=pyplot.get_cmap('gray'))\n",
        "#   pyplot.show()"
      ],
      "metadata": {
        "id": "xEmT2Xaey_2w"
      },
      "execution_count": null,
      "outputs": []
    },
    {
      "cell_type": "code",
      "source": [
        "import numpy as np\n",
        "from keras.datasets import mnist\n",
        "from keras.models import Sequential\n",
        "from keras.layers import Dense\n",
        "from tensorflow.keras.utils import to_categorical\n",
        "import matplotlib.pyplot as plt"
      ],
      "metadata": {
        "id": "i23z0XnN0xaU"
      },
      "execution_count": null,
      "outputs": []
    },
    {
      "cell_type": "code",
      "source": [
        "(X_train, y_train), (X_test, y_test) = mnist.load_data()\n",
        "\n",
        "num_pixels = X_train.shape[1] * X_train.shape[2]\n",
        "X_train = X_train.reshape((X_train.shape[0], num_pixels)).astype('float32')\n",
        "X_test = X_test.reshape((X_test.shape[0], num_pixels)).astype('float32')\n",
        "\n",
        "X_train = X_train / 255\n",
        "X_test = X_test / 255\n",
        "\n",
        "y_train = to_categorical(y_train)\n",
        "y_test = to_categorical(y_test)\n",
        "num_classes = y_test.shape[1]"
      ],
      "metadata": {
        "id": "Wxk94HAz1dvl"
      },
      "execution_count": null,
      "outputs": []
    },
    {
      "cell_type": "code",
      "source": [
        "model = Sequential()\n",
        "model.add(Dense(num_pixels, input_dim=num_pixels, activation='relu'))\n",
        "model.add(Dense(num_classes, activation='softmax'))\n",
        "\n",
        "model.compile(loss='categorical_crossentropy', optimizer='adam', metrics=['accuracy'])"
      ],
      "metadata": {
        "id": "afa97IEV1fvU"
      },
      "execution_count": null,
      "outputs": []
    },
    {
      "cell_type": "code",
      "source": [
        "model.fit(X_train, y_train, validation_data=(X_test, y_test), epochs=10, batch_size=200, verbose=2)"
      ],
      "metadata": {
        "colab": {
          "base_uri": "https://localhost:8080/"
        },
        "id": "nWjzU18D1gdb",
        "outputId": "3c707cd5-765f-4a3c-9d8e-fd0c918b1d3a"
      },
      "execution_count": null,
      "outputs": [
        {
          "output_type": "stream",
          "name": "stdout",
          "text": [
            "Epoch 1/10\n",
            "300/300 - 6s - 18ms/step - accuracy: 0.9208 - loss: 0.2826 - val_accuracy: 0.9607 - val_loss: 0.1417\n",
            "Epoch 2/10\n",
            "300/300 - 4s - 15ms/step - accuracy: 0.9670 - loss: 0.1115 - val_accuracy: 0.9706 - val_loss: 0.0972\n",
            "Epoch 3/10\n",
            "300/300 - 5s - 17ms/step - accuracy: 0.9794 - loss: 0.0718 - val_accuracy: 0.9774 - val_loss: 0.0775\n",
            "Epoch 4/10\n",
            "300/300 - 5s - 16ms/step - accuracy: 0.9858 - loss: 0.0501 - val_accuracy: 0.9803 - val_loss: 0.0651\n",
            "Epoch 5/10\n",
            "300/300 - 5s - 15ms/step - accuracy: 0.9900 - loss: 0.0366 - val_accuracy: 0.9793 - val_loss: 0.0662\n",
            "Epoch 6/10\n",
            "300/300 - 5s - 15ms/step - accuracy: 0.9924 - loss: 0.0275 - val_accuracy: 0.9810 - val_loss: 0.0617\n",
            "Epoch 7/10\n",
            "300/300 - 5s - 17ms/step - accuracy: 0.9947 - loss: 0.0204 - val_accuracy: 0.9798 - val_loss: 0.0599\n",
            "Epoch 8/10\n",
            "300/300 - 5s - 17ms/step - accuracy: 0.9964 - loss: 0.0150 - val_accuracy: 0.9798 - val_loss: 0.0656\n",
            "Epoch 9/10\n",
            "300/300 - 6s - 18ms/step - accuracy: 0.9978 - loss: 0.0109 - val_accuracy: 0.9806 - val_loss: 0.0595\n",
            "Epoch 10/10\n",
            "300/300 - 5s - 15ms/step - accuracy: 0.9985 - loss: 0.0082 - val_accuracy: 0.9825 - val_loss: 0.0587\n"
          ]
        },
        {
          "output_type": "execute_result",
          "data": {
            "text/plain": [
              "<keras.src.callbacks.history.History at 0x796b0ac71010>"
            ]
          },
          "metadata": {},
          "execution_count": 25
        }
      ]
    },
    {
      "cell_type": "code",
      "source": [
        "scores = model.evaluate(X_test, y_test, verbose=0)\n",
        "print(\"Baseline Error: %.2f%%\" % (100-scores[1]*100))"
      ],
      "metadata": {
        "colab": {
          "base_uri": "https://localhost:8080/"
        },
        "id": "s2E5kIjU1hfU",
        "outputId": "3119ca44-beab-46fe-c0ed-0da733ad8d2c"
      },
      "execution_count": null,
      "outputs": [
        {
          "output_type": "stream",
          "name": "stdout",
          "text": [
            "Baseline Error: 1.75%\n"
          ]
        }
      ]
    },
    {
      "cell_type": "code",
      "source": [
        "image_index = np.random.randint(0, len(X_test))\n",
        "image = X_test[image_index]\n",
        "\n",
        "image = image.reshape(1, 784)\n",
        "\n",
        "prediction = model.predict(image)\n",
        "\n",
        "predicted_class = np.argmax(prediction)\n",
        "\n",
        "plt.imshow(image.reshape(28, 28), cmap='gray')\n",
        "plt.title(f\"Predicted Number: {predicted_class}\")\n",
        "plt.show()"
      ],
      "metadata": {
        "colab": {
          "base_uri": "https://localhost:8080/",
          "height": 507
        },
        "id": "wWfk1oEi3Qqj",
        "outputId": "8bb4757a-b6ab-4db7-bdea-e1e8d2fb55d0"
      },
      "execution_count": null,
      "outputs": [
        {
          "output_type": "stream",
          "name": "stderr",
          "text": [
            "WARNING:tensorflow:5 out of the last 6 calls to <function TensorFlowTrainer.make_predict_function.<locals>.one_step_on_data_distributed at 0x796b15aeb420> triggered tf.function retracing. Tracing is expensive and the excessive number of tracings could be due to (1) creating @tf.function repeatedly in a loop, (2) passing tensors with different shapes, (3) passing Python objects instead of tensors. For (1), please define your @tf.function outside of the loop. For (2), @tf.function has reduce_retracing=True option that can avoid unnecessary retracing. For (3), please refer to https://www.tensorflow.org/guide/function#controlling_retracing and https://www.tensorflow.org/api_docs/python/tf/function for  more details.\n"
          ]
        },
        {
          "output_type": "stream",
          "name": "stdout",
          "text": [
            "\u001b[1m1/1\u001b[0m \u001b[32m━━━━━━━━━━━━━━━━━━━━\u001b[0m\u001b[37m\u001b[0m \u001b[1m0s\u001b[0m 66ms/step\n"
          ]
        },
        {
          "output_type": "display_data",
          "data": {
            "text/plain": [
              "<Figure size 640x480 with 1 Axes>"
            ],
            "image/png": "[encoded data removed]"
          },
          "metadata": {}
        }
      ]
    },
    {
      "cell_type": "code",
      "source": [
        "import numpy as np\n",
        "import matplotlib.pyplot as plt\n",
        "\n",
        "while True:\n",
        "    try:\n",
        "        image_index = int(input(\"Enter an image index between 0 and {}: \".format(len(X_test) - 1)))\n",
        "        if 0 <= image_index < len(X_test):\n",
        "            break\n",
        "        else:\n",
        "            print(\"Invalid index. Please enter a number within the range.\")\n",
        "    except ValueError:\n",
        "        print(\"Invalid input. Please enter an integer.\")\n",
        "\n",
        "image = X_test[image_index]\n",
        "image = image.reshape(1, 784)\n",
        "\n",
        "prediction = model.predict(image)\n",
        "predicted_class = np.argmax(prediction)\n",
        "\n",
        "plt.imshow(image.reshape(28, 28), cmap='gray')\n",
        "plt.title(f\"Predicted Number: {predicted_class}\")\n",
        "plt.show()"
      ],
      "metadata": {
        "id": "1Fjy1hglG6Z-",
        "outputId": "fd398ef0-3f49-4020-8729-ea0d6d9546b7",
        "colab": {
          "base_uri": "https://localhost:8080/",
          "height": 487
        }
      },
      "execution_count": null,
      "outputs": [
        {
          "output_type": "stream",
          "name": "stdout",
          "text": [
            "Enter an image index between 0 and 9999: 235\n",
            "\u001b[1m1/1\u001b[0m \u001b[32m━━━━━━━━━━━━━━━━━━━━\u001b[0m\u001b[37m\u001b[0m \u001b[1m0s\u001b[0m 50ms/step\n"
          ]
        },
        {
          "output_type": "display_data",
          "data": {
            "text/plain": [
              "<Figure size 640x480 with 1 Axes>"
            ],
            "image/png": "[encoded data removed]"
          },
          "metadata": {}
        }
      ]
    }
  ]
}