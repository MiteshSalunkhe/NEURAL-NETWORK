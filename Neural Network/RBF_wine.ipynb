{
  "nbformat": 4,
  "nbformat_minor": 0,
  "metadata": {
    "colab": {
      "provenance": []
    },
    "kernelspec": {
      "name": "python3",
      "display_name": "Python 3"
    },
    "language_info": {
      "name": "python"
    }
  },
  "cells": [
    {
      "cell_type": "code",
      "execution_count": null,
      "metadata": {
        "id": "J1Lt0cc3ucZc"
      },
      "outputs": [],
      "source": [
        "import math\n",
        "import pandas as pd\n",
        "from sklearn.preprocessing import LabelEncoder\n",
        "from sklearn.preprocessing import StandardScaler\n",
        "from sklearn.model_selection import train_test_split\n",
        "from sklearn.metrics import accuracy_score\n",
        "from sklearn.cluster import KMeans\n",
        "import numpy as numpy\n"
      ]
    },
    {
      "cell_type": "code",
      "source": [
        "Data1 = pd.read_csv('/content/wine_data.csv')\n",
        "cols = [\"fixed_acidity\" , \"volatile_acidity\" ,\"residual_sugar\",\"chlorides\",\"free_sulfur_dioxide\",\"total_sulfur_dioxide\",\"density\",\"pH\",\"sulphates\" , \"alcohol\" , \"quality\"]\n"
      ],
      "metadata": {
        "id": "_sPiuOshunXz"
      },
      "execution_count": null,
      "outputs": []
    },
    {
      "cell_type": "code",
      "source": [
        "data_train,data_test = train_test_split(Data1,test_size = 0.5,random_state = 4)\n",
        "x_train = data_train.drop('quality',axis = 1)\n",
        "y_train = data_train['quality']\n",
        "x_test = data_test.drop('quality',axis = 1)\n",
        "y_test = data_test['quality']\n"
      ],
      "metadata": {
        "id": "FqaQMC9Juqwa"
      },
      "execution_count": null,
      "outputs": []
    },
    {
      "cell_type": "code",
      "source": [
        "scaler = StandardScaler()\n",
        "scaler.fit(x_train)\n",
        "x_train = scaler.transform(x_train)\n",
        "x_test = scaler.transform(x_test)"
      ],
      "metadata": {
        "id": "cLJUK_rGwLvr"
      },
      "execution_count": null,
      "outputs": []
    },
    {
      "cell_type": "code",
      "source": [
        "k_cent = 1100\n",
        "km = KMeans(n_clusters = k_cent,max_iter = 100)\n",
        "km.fit(x_train)\n",
        "cent = km.cluster_centers_"
      ],
      "metadata": {
        "id": "quNOk9AgwNbq"
      },
      "execution_count": null,
      "outputs": []
    },
    {
      "cell_type": "code",
      "source": [
        "max = 0\n",
        "for i in range(k_cent):\n",
        "  for j in range(k_cent):\n",
        "    d = numpy.linalg.norm(cent[i]-cent[j])\n",
        "    if d > max:\n",
        "      max = d\n",
        "d = max\n",
        "sigma = d / math.sqrt(2*k_cent)\n",
        "print(sigma)"
      ],
      "metadata": {
        "colab": {
          "base_uri": "https://localhost:8080/"
        },
        "id": "p5zDHFIpwOAx",
        "outputId": "96f41c51-2e91-487d-d723-edd99b787567"
      },
      "execution_count": null,
      "outputs": [
        {
          "output_type": "stream",
          "name": "stdout",
          "text": [
            "0.2048056979172359\n"
          ]
        }
      ]
    },
    {
      "cell_type": "code",
      "source": [
        "shape = x_train.shape\n",
        "row = shape[0]\n",
        "column = k_cent\n",
        "G = numpy.empty((row,column) , dtype = float)\n",
        "for i in range(row):\n",
        "  for j in range(column):\n",
        "    dist = numpy.linalg.norm(x_train[i] - cent[j])\n",
        "    G[i][j] = math.exp(-math.pow(dist , 2 )/ math.pow(2 * sigma , 2))\n",
        "print(G)"
      ],
      "metadata": {
        "colab": {
          "base_uri": "https://localhost:8080/"
        },
        "id": "ILxLNr-swQHK",
        "outputId": "4265f3a3-359b-475f-b312-ec4a7c243ae2"
      },
      "execution_count": null,
      "outputs": [
        {
          "output_type": "stream",
          "name": "stdout",
          "text": [
            "[[2.16761412e-078 9.00130833e-041 7.16817164e-026 ... 4.86056565e-044\n",
            "  2.03878002e-077 1.02605220e-064]\n",
            " [8.83373990e-101 4.33079777e-022 5.80923350e-014 ... 4.57438262e-026\n",
            "  2.22826477e-101 1.25130639e-058]\n",
            " [6.88409140e-108 5.85899306e-029 8.74122856e-030 ... 9.10554355e-030\n",
            "  1.79445915e-109 2.04815088e-052]\n",
            " ...\n",
            " [1.71839693e-076 3.84400231e-019 3.43950076e-015 ... 3.00015693e-029\n",
            "  1.46094766e-074 1.92981263e-037]\n",
            " [1.01320423e-082 7.09278562e-022 3.18330307e-021 ... 1.75008197e-046\n",
            "  2.31795632e-078 5.05718628e-051]\n",
            " [2.20201373e-099 1.63187045e-017 1.41977211e-017 ... 1.08016982e-027\n",
            "  9.35977503e-095 4.54505294e-055]]\n"
          ]
        }
      ]
    },
    {
      "cell_type": "code",
      "source": [
        "GTG = numpy.dot(G.T , G)\n",
        "GTG_inv = numpy.linalg.inv(GTG)\n",
        "fac = numpy.dot(GTG_inv , G.T)\n",
        "w = numpy.dot(fac , y_train)\n",
        "print(w)"
      ],
      "metadata": {
        "colab": {
          "base_uri": "https://localhost:8080/"
        },
        "id": "id0WON2ZwR8w",
        "outputId": "0cb939cb-7792-46f1-80c1-b54f27102e8c"
      },
      "execution_count": null,
      "outputs": [
        {
          "output_type": "stream",
          "name": "stdout",
          "text": [
            "[20.88025541 51.86499858 25.27672682 ... 33.94516339 28.41489028\n",
            "  8.        ]\n"
          ]
        }
      ]
    },
    {
      "cell_type": "code",
      "source": [
        "\n",
        "row = x_test.shape[0]\n",
        "column = k_cent\n",
        "G_test = numpy.empty((row,column) , dtype = float)\n",
        "for i in range(row):\n",
        "  for j in range(column):\n",
        "    dist = numpy.linalg.norm(x_test[i] - cent[j])\n",
        "    G_test[i][j] = math.exp(-math.pow(dist , 2 )/ math.pow(2 * sigma , 2))\n",
        "print(G_test[0])"
      ],
      "metadata": {
        "colab": {
          "base_uri": "https://localhost:8080/"
        },
        "id": "YCC9mt3FwVEZ",
        "outputId": "a92e2f9a-29b9-4953-de5d-50c507d21a00"
      },
      "execution_count": null,
      "outputs": [
        {
          "output_type": "stream",
          "name": "stdout",
          "text": [
            "[4.71397080e-138 6.62067063e-020 2.80746015e-038 ... 9.82187439e-039\n",
            " 1.61341983e-134 1.82976706e-054]\n"
          ]
        }
      ]
    },
    {
      "cell_type": "code",
      "source": [
        "prediction = numpy.dot(G_test , w)\n",
        "prediction = 0.5 * (numpy.sign(prediction - 0.5) + 1)\n",
        "score = accuracy_score(y_test,prediction)\n",
        "print(score)"
      ],
      "metadata": {
        "colab": {
          "base_uri": "https://localhost:8080/"
        },
        "id": "mbzEeszswW2x",
        "outputId": "0ad8af87-dad8-48f5-db8f-6d0614b49d1f"
      },
      "execution_count": null,
      "outputs": [
        {
          "output_type": "stream",
          "name": "stdout",
          "text": [
            "0.0\n"
          ]
        }
      ]
    },
    {
      "cell_type": "code",
      "source": [],
      "metadata": {
        "id": "34FvmZDNA-zU"
      },
      "execution_count": null,
      "outputs": []
    },
    {
      "cell_type": "code",
      "source": [
        "import numpy as np\n",
        "import matplotlib.pyplot as plt\n",
        "from sklearn.model_selection import train_test_split\n",
        "from sklearn.svm import SVC\n",
        "from sklearn.metrics import accuracy_score\n",
        "from sklearn.preprocessing import MinMaxScaler\n",
        "import pandas as pd\n",
        "\n",
        "# Load the dataset\n",
        "data = pd.read_csv('/content/wine_data.csv')\n",
        "\n",
        "# Extract the features and target variable\n",
        "# X = data[['fixed_acidity', 'volatile_acidity', 'citric_acid', 'residual_sugar', 'chlorides', 'free_sulfur_dioxide', 'total_sulfur_dioxide', 'density', 'pH', 'sulphates', 'alcohol']]\n",
        "# y = data['quality']\n",
        "\n",
        "X = data.iloc[:, :-1].values\n",
        "y = data.iloc[:, -1].values\n",
        "# Split the data into training and testing sets\n",
        "X_train, X_test, y_train, y_test = train_test_split(X, y, test_size=0.1, random_state=42)\n",
        "\n",
        "# Feature scaling\n",
        "scaler = MinMaxScaler()\n",
        "X_train = scaler.fit_transform(X_train)\n",
        "X_test = scaler.transform(X_test)\n",
        "\n",
        "# Create an SVM classifier with an RBF kernel\n",
        "svm = SVC(kernel='rbf', gamma=0.7, C=1.0)\n",
        "\n",
        "# Train the SVM on all features\n",
        "svm.fit(X_train, y_train)\n",
        "\n",
        "# Make predictions\n",
        "y_pred = svm.predict(X_test)\n",
        "\n",
        "# Evaluate the model\n",
        "accuracy = accuracy_score(y_test, y_pred)\n",
        "print(f\"Accuracy: {accuracy * 100:.2f}\")\n",
        "\n",
        "# # Plot the decision boundary (using only the first two features for visualization)\n",
        "# def plot_decision_boundary(X, y, model):\n",
        "#     # We will plot only the first two features for visualization purposes\n",
        "#     X = X[:, :2]  # Select the first two features\n",
        "\n",
        "#     # Train a new SVM model using only the first two features\n",
        "#     svm_2d = SVC(kernel='rbf', gamma=0.7, C=1.0)\n",
        "#     svm_2d.fit(X, y)\n",
        "\n",
        "#     h = .02  # Step size in the mesh\n",
        "#     x_min, x_max = X[:, 0].min() - 1, X[:, 0].max() + 1\n",
        "#     y_min, y_max = X[:, 1].min() - 1, X[:, 1].max() + 1\n",
        "#     xx, yy = np.meshgrid(np.arange(x_min, x_max, h),\n",
        "#                          np.arange(y_min, y_max, h))\n",
        "\n",
        "#     # Create a meshgrid with two features\n",
        "#     mesh_data = np.c_[xx.ravel(), yy.ravel()]\n",
        "\n",
        "#     # Make predictions for each point in the mesh\n",
        "#     Z = svm_2d.predict(mesh_data)\n",
        "#     Z = Z.reshape(xx.shape)\n",
        "\n",
        "#     # Plot decision boundary and training points\n",
        "#     plt.contourf(xx, yy, Z, alpha=0.8)\n",
        "#     plt.scatter(X[:, 0], X[:, 1], c=y, edgecolors='k', marker='o')\n",
        "#     plt.xlabel('Feature 1 (Scaled)')\n",
        "#     plt.ylabel('Feature 2 (Scaled)')\n",
        "#     plt.title('SVM Decision Boundary with RBF Kernel (First Two Features)')\n",
        "#     plt.show()\n",
        "\n",
        "# # Call the function to plot the decision boundary\n",
        "# plot_decision_boundary(X_train, y_train, svm)"
      ],
      "metadata": {
        "colab": {
          "base_uri": "https://localhost:8080/"
        },
        "id": "Xk6M8w1jEoyZ",
        "outputId": "a88206e6-1f1f-4a25-989d-819676650d1c"
      },
      "execution_count": null,
      "outputs": [
        {
          "output_type": "stream",
          "name": "stdout",
          "text": [
            "Accuracy: 31.14\n"
          ]
        }
      ]
    },
    {
      "cell_type": "code",
      "source": [
        "#CORRECT RBF CODE\n",
        "import pandas as pd\n",
        "import numpy as np\n",
        "from sklearn.model_selection import train_test_split\n",
        "from sklearn.preprocessing import MinMaxScaler\n",
        "\n",
        "from sklearn.metrics import accuracy_score\n",
        "\n",
        "data = pd.read_csv('wine_data.csv')\n",
        "\n",
        "print(data.head())\n",
        "X = data.iloc[:, :-1].values\n",
        "y = data.iloc[:, -1].values\n",
        "\n",
        "scaler = MinMaxScaler()\n",
        "X_scaled = scaler.fit_transform(X)\n",
        "\n",
        "X_train, X_test, y_train, y_test = train_test_split(X_scaled, y, test_size=0.2, random_state=42)\n",
        "\n",
        "\n",
        "def rbf_kernel(x1, x2, gamma):\n",
        "    diff = x1 - x2\n",
        "    return np.exp(-gamma * np.dot(diff, diff.T))\n",
        "\n",
        "def rbf_classifier(X_train, y_train, X_test, gamma):\n",
        "    predictions = []\n",
        "\n",
        "    for test_sample in X_test:\n",
        "        distances = []\n",
        "\n",
        "        for train_sample in X_train:\n",
        "            distance = rbf_kernel(test_sample, train_sample, gamma)\n",
        "            distances.append(distance)\n",
        "\n",
        "        closest_index = np.argmax(distances)\n",
        "        predictions.append(y_train[closest_index])\n",
        "\n",
        "    return np.array(predictions)\n",
        "\n",
        "predictions = rbf_classifier(X_train, y_train, X_test, gamma=0.5)\n",
        "print(predictions)\n",
        "accuracy = accuracy_score(y_test, predictions)\n",
        "print(f'Accuracy: {accuracy * 100:.2f}%')\n"
      ],
      "metadata": {
        "colab": {
          "base_uri": "https://localhost:8080/"
        },
        "id": "sWyfmS2bnwko",
        "outputId": "3b1a8c2d-0ba1-4313-b682-321c76668599"
      },
      "execution_count": null,
      "outputs": [
        {
          "output_type": "stream",
          "name": "stdout",
          "text": [
            "   fixed_acidity  volatile_acidity  citric_acid  residual_sugar  chlorides  \\\n",
            "0           11.6             0.580         0.66            2.20      0.074   \n",
            "1           10.4             0.610         0.49            2.10      0.200   \n",
            "2            7.4             1.185         0.00            4.25      0.097   \n",
            "3           10.4             0.440         0.42            1.50      0.145   \n",
            "4            8.3             1.020         0.02            3.40      0.084   \n",
            "\n",
            "   free_sulfur_dioxide  total_sulfur_dioxide  density    pH  sulphates  \\\n",
            "0                 10.0                  47.0  1.00080  3.25       0.57   \n",
            "1                  5.0                  16.0  0.99940  3.16       0.63   \n",
            "2                  5.0                  14.0  0.99660  3.63       0.54   \n",
            "3                 34.0                  48.0  0.99832  3.38       0.86   \n",
            "4                  6.0                  11.0  0.99892  3.48       0.49   \n",
            "\n",
            "   alcohol  quality  \n",
            "0      9.0        3  \n",
            "1      8.4        3  \n",
            "2     10.7        3  \n",
            "3      9.9        3  \n",
            "4     11.0        3  \n",
            "[3 8 5 ... 6 3 9]\n",
            "Accuracy: 59.90%\n"
          ]
        }
      ]
    }
  ]
}