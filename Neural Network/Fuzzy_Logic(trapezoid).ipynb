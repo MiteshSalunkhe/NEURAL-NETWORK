{
  "nbformat": 4,
  "nbformat_minor": 0,
  "metadata": {
    "colab": {
      "provenance": []
    },
    "kernelspec": {
      "name": "python3",
      "display_name": "Python 3"
    },
    "language_info": {
      "name": "python"
    }
  },
  "cells": [
    {
      "cell_type": "code",
      "source": [
        "#FUZZY LOGIC USING TRAPEZOID FORMULA (HERE WE ONLY HAVE TO CHANGE ITS MEMBERSHIP FUNCTION , AREA , CENTROID AND THE REST OF THE CODE IS SAME AS THAT OF THE TRAINGLE CODE)\n",
        "class fuzzylogic:\n",
        "    def __init__(self, a, b, c, d):\n",
        "        self.left = a\n",
        "        self.centerleft = b\n",
        "        self.centerright = c\n",
        "        self.right = d\n",
        "\n",
        "    def membership_trapezoid(self, x):\n",
        "        if x <= self.centerleft and x >= self.left:\n",
        "            return (x - self.left) / (self.centerleft - self.left)\n",
        "        elif self.centerleft <= x <= self.centerright:\n",
        "            return 1\n",
        "        elif x <= self.right and x > self.centerright:\n",
        "            return (self.right - x) / (self.right - self.centerright)\n",
        "        else:\n",
        "            return 0\n",
        "\n",
        "    def area_trapezoid(self):\n",
        "        return ((self.centerleft - self.left) + (self.right - self.centerright)) * (self.centerright - self.centerleft) / 2\n",
        "\n",
        "    def centroid(self):\n",
        "        numerator = ((self.right - self.centerright) * (self.centerright + self.right)) + ((self.centerleft - self.left) * (self.left + self.centerleft))\n",
        "        denominator = 2 * ((self.centerleft - self.left) + (self.right - self.centerright))\n",
        "        return numerator / denominator if denominator != 0 else 0"
      ],
      "metadata": {
        "id": "Wa3LYBLF_6nN"
      },
      "execution_count": null,
      "outputs": []
    },
    {
      "cell_type": "code",
      "source": [
        "# Fuzzy sets\n",
        "temperature_below_average = fuzzylogic(15, 20, 30, 40)\n",
        "temperature_low = fuzzylogic(-5, 10, 15, 25)\n",
        "pressure_below_average = fuzzylogic(1.25, 1.50, 2.5, 2.75)\n",
        "pressure_low = fuzzylogic(0.25, 0.50, 1.5, 1.75)\n",
        "heating_power_medium_high = fuzzylogic(1.25, 1.50, 2.5, 2.75)\n",
        "heating_power_high = fuzzylogic(4.25, 4.5, 5.5, 5.75)\n",
        "valve_opening_medium_low = fuzzylogic(1.25, 1.50, 2.5, 2.75)\n",
        "valve_opening_small = fuzzylogic(0.25, 0.50, 1.5, 1.75)\n",
        "\n",
        "# Input values\n",
        "temperature_input = 17.5\n",
        "pressure_input = 1.3\n",
        "\n",
        "# Fuzzification\n",
        "z1 = min(\n",
        "    temperature_below_average.membership_trapezoid(temperature_input),\n",
        "    pressure_below_average.membership_trapezoid(pressure_input)\n",
        ")\n",
        "\n",
        "z2 = min(\n",
        "    temperature_low.membership_trapezoid(temperature_input),\n",
        "    pressure_low.membership_trapezoid(pressure_input)\n",
        ")\n",
        "\n",
        "print(\"z1 =\", z1)\n",
        "print(\"z2 =\", z2)\n",
        "\n"
      ],
      "metadata": {
        "colab": {
          "base_uri": "https://localhost:8080/"
        },
        "id": "tD6_Guru8unO",
        "outputId": "c56b76d0-22aa-497c-8dc1-c82a46aa47d1"
      },
      "execution_count": null,
      "outputs": [
        {
          "output_type": "stream",
          "name": "stdout",
          "text": [
            "z1 = 0.20000000000000018\n",
            "z2 = 0.75\n"
          ]
        }
      ]
    },
    {
      "cell_type": "code",
      "source": [
        "# Defuzzification\n",
        "# Heating power\n",
        "numerator_c1 = (\n",
        "    (z1 * heating_power_medium_high.area_trapezoid() * heating_power_medium_high.centroid()) +\n",
        "    (z2 * heating_power_high.area_trapezoid() * heating_power_high.centroid())\n",
        ")\n",
        "denominator_c1 = (\n",
        "    (z1 * heating_power_medium_high.area_trapezoid()) +\n",
        "    (z2 * heating_power_high.area_trapezoid())\n",
        ")\n",
        "\n",
        "# Valve opening\n",
        "numerator_c2 = (\n",
        "    (z1 * valve_opening_medium_low.area_trapezoid() * valve_opening_medium_low.centroid()) +\n",
        "    (z2 * valve_opening_small.area_trapezoid() * valve_opening_small.centroid())\n",
        ")\n",
        "denominator_c2 = (\n",
        "    (z1 * valve_opening_medium_low.area_trapezoid()) +\n",
        "    (z2 * valve_opening_small.area_trapezoid())\n",
        ")\n",
        "\n",
        "# Crisp outputs\n",
        "c1 = numerator_c1 / denominator_c1 if denominator_c1 != 0 else 0\n",
        "c2 = numerator_c2 / denominator_c2 if denominator_c2 != 0 else 0\n",
        "\n",
        "print(\"C1 (heating power) =\", c1)\n",
        "print(\"C2 (valve opening) =\", c2)\n",
        "\n"
      ],
      "metadata": {
        "colab": {
          "base_uri": "https://localhost:8080/"
        },
        "id": "5bN0RlGz8xSL",
        "outputId": "b4c4c677-9ea9-4ec4-8ef4-8f828f6441a0"
      },
      "execution_count": null,
      "outputs": [
        {
          "output_type": "stream",
          "name": "stdout",
          "text": [
            "C1 (heating power) = 4.368421052631579\n",
            "C2 (valve opening) = 1.210526315789474\n"
          ]
        }
      ]
    },
    {
      "cell_type": "code",
      "source": [
        "# FUZZY LOGIC USING TRIANGLE FORMULA\n",
        "\n",
        "class fuzzylogic:\n",
        "    def __init__(self, a, b, c):\n",
        "        self.left = a\n",
        "        self.center = b\n",
        "        self.right = c\n",
        "\n",
        "    def membership(self, x):\n",
        "        if x <= self.center:\n",
        "            return (x - self.left) / (self.center - self.left)\n",
        "        elif x <= self.right:\n",
        "            return (self.right - x) / (self.right - self.center)\n",
        "        else:\n",
        "            return 0\n",
        "\n",
        "    def area(self):\n",
        "        return self.right - self.center"
      ],
      "metadata": {
        "id": "f4nX1cB6j8Fe"
      },
      "execution_count": null,
      "outputs": []
    },
    {
      "cell_type": "code",
      "source": [
        "\n",
        "# fuzzylogic sets for different categories\n",
        "temperature_below_average = fuzzylogic(15, 30, 45)\n",
        "temperature_low = fuzzylogic(-5, 10, 25)\n",
        "pressure_below_average = fuzzylogic(1.25, 2, 2.75)\n",
        "pressure_low = fuzzylogic(0.25, 1, 1.75)\n",
        "heating_power_medium_high = fuzzylogic(3.25, 4, 4.75)\n",
        "heating_power_high = fuzzylogic(4.25, 5, 5.75)\n",
        "valve_opening_medium_low = fuzzylogic(1.25, 2, 2.75)\n",
        "valve_opening_small = fuzzylogic(0.25, 1, 1.75)\n",
        "\n",
        "# Input values for temperature and pressure\n",
        "temperature_input = 17.5\n",
        "pressure_input = 1.3\n",
        "\n",
        "# Fuzzification: Calculate the membership values for temperature and pressure inputs\n",
        "z1 = min(\n",
        "    temperature_below_average.membership(temperature_input),\n",
        "    pressure_below_average.membership(pressure_input)\n",
        ")\n",
        "\n",
        "z2 = min(\n",
        "    temperature_low.membership(temperature_input),\n",
        "    pressure_low.membership(pressure_input)\n",
        ")\n",
        "\n",
        "print(\"z1 =\", z1)\n",
        "print(\"z2 =\", z2)"
      ],
      "metadata": {
        "colab": {
          "base_uri": "https://localhost:8080/"
        },
        "id": "A1aXBNrL6B0c",
        "outputId": "eeb39b1a-416c-4845-b732-774da3fc00a5"
      },
      "execution_count": null,
      "outputs": [
        {
          "output_type": "stream",
          "name": "stdout",
          "text": [
            "z1 = 0.06666666666666672\n",
            "z2 = 0.5\n"
          ]
        }
      ]
    },
    {
      "cell_type": "code",
      "source": [
        "\n",
        "# Defuzzification: Calculate the crisp output (heating power and valve opening)\n",
        "# Numerator for heating power (c1)\n",
        "numerator_c1 = (\n",
        "    (z1 * heating_power_medium_high.area() * heating_power_medium_high.center) +\n",
        "    (z2 * heating_power_high.area() * heating_power_high.center)\n",
        ")\n",
        "\n",
        "# Numerator for valve opening (c2)\n",
        "numerator_c2= (\n",
        "    (z1 * valve_opening_medium_low.area() * valve_opening_medium_low.center) +\n",
        "    (z2 * valve_opening_small.area() * valve_opening_small.center)\n",
        ")\n",
        "\n",
        "# Denominator for heating power (c1)\n",
        "denominator_c1= (\n",
        "    (z1 * heating_power_medium_high.area()) +\n",
        "    (z2 * heating_power_high.area())\n",
        ")\n",
        "\n",
        "# Denominator for valve opening (c2)\n",
        "denominator_c2= (\n",
        "    (z1 * valve_opening_medium_low.area()) +\n",
        "    (z2 * valve_opening_small.area())\n",
        ")\n",
        "# Crisp outputs (defuzzified values)\n",
        "c1 = numerator_c1 / denominator_c1 if denominator_c1 != 0 else 0\n",
        "c2 = numerator_c2 / denominator_c2 if denominator_c2 != 0 else 0\n",
        "\n",
        "print(\"C1 =\", c1)\n",
        "print(\"C2 =\", c2)"
      ],
      "metadata": {
        "colab": {
          "base_uri": "https://localhost:8080/"
        },
        "id": "05AeUzo05938",
        "outputId": "7c5d268a-e813-455c-9e72-8af140ca93b6"
      },
      "execution_count": null,
      "outputs": [
        {
          "output_type": "stream",
          "name": "stdout",
          "text": [
            "C1 = 4.88235294117647\n",
            "C2 = 1.1176470588235294\n"
          ]
        }
      ]
    }
  ]
}